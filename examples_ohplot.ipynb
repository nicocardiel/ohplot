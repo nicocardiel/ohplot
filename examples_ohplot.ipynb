{
 "cells": [
  {
   "cell_type": "markdown",
   "id": "d7c97be6-197a-4043-b01d-d634ddf3d263",
   "metadata": {},
   "source": [
    "# Using `ohplot` within a Jupyter notebook"
   ]
  },
  {
   "cell_type": "code",
   "execution_count": null,
   "id": "fce0a2f1-2372-4d13-bb94-62b7baa387d7",
   "metadata": {},
   "outputs": [],
   "source": [
    "import matplotlib.pyplot as plt\n",
    "from ohplot import ohplot"
   ]
  },
  {
   "cell_type": "markdown",
   "id": "2d8ba504-156b-49a4-9a28-a9948407de71",
   "metadata": {},
   "source": [
    "## Example 1"
   ]
  },
  {
   "cell_type": "markdown",
   "id": "d6679af1-1dfc-49e0-8355-eafcebdabbe6",
   "metadata": {},
   "source": [
    "The following example is equivalent to\n",
    "\n",
    "```\n",
    "$ python ohplot.py --kinn 10 --redshift 1.6\n",
    "```"
   ]
  },
  {
   "cell_type": "code",
   "execution_count": null,
   "id": "921e2ab8-98ca-42d8-a123-a0881d690e12",
   "metadata": {},
   "outputs": [],
   "source": [
    "fig, ax = plt.subplots(figsize=(12, 6))\n",
    "ohplot(ax=ax, kinn=10, redshift=1.6)\n",
    "plt.tight_layout()\n",
    "plt.show()"
   ]
  },
  {
   "cell_type": "markdown",
   "id": "c1662054-5e53-444c-8760-ffa0bba325b8",
   "metadata": {},
   "source": [
    "## Example 2"
   ]
  },
  {
   "cell_type": "markdown",
   "id": "90e149f4-1630-441a-a121-9aba30cb9149",
   "metadata": {},
   "source": [
    "The following example is equivalent to\n",
    "\n",
    "```\n",
    "$ python ohplot.py --sdss 27 --redshift 1.6 --emlines\n",
    "```"
   ]
  },
  {
   "cell_type": "code",
   "execution_count": null,
   "id": "e3515f41-df3f-4cf8-a6bb-cad39ff88a3d",
   "metadata": {},
   "outputs": [],
   "source": [
    "fig, ax = plt.subplots(figsize=(12, 6))\n",
    "ohplot(ax=ax, sdss=27, redshift=1.6, emlines=True)\n",
    "plt.tight_layout()\n",
    "plt.show()"
   ]
  },
  {
   "cell_type": "markdown",
   "id": "66e16345-8166-4407-a7ba-e12b339166f7",
   "metadata": {},
   "source": [
    "## Example 3"
   ]
  },
  {
   "cell_type": "markdown",
   "id": "1ab25c0e-77c1-4f1d-b8f6-4bdae6b85ebe",
   "metadata": {},
   "source": [
    "The following example is equivalent to\n",
    "\n",
    "```\n",
    "$ python ohplot.py --ascii example.ascii --redshift 1.6\n",
    "```"
   ]
  },
  {
   "cell_type": "code",
   "execution_count": null,
   "id": "07759aa3-9031-4fcc-8b87-bc7d3aa34214",
   "metadata": {},
   "outputs": [],
   "source": [
    "fig, ax = plt.subplots(figsize=(12, 6))\n",
    "ohplot(ax=ax, ascii=\"example.ascii\", redshift=1.6)\n",
    "plt.tight_layout()\n",
    "plt.show()"
   ]
  },
  {
   "cell_type": "code",
   "execution_count": null,
   "id": "1e38cb1b-6d59-48e8-83ab-b33830079c62",
   "metadata": {},
   "outputs": [],
   "source": []
  }
 ],
 "metadata": {
  "kernelspec": {
   "display_name": "Python 3 (ipykernel)",
   "language": "python",
   "name": "python3"
  },
  "language_info": {
   "codemirror_mode": {
    "name": "ipython",
    "version": 3
   },
   "file_extension": ".py",
   "mimetype": "text/x-python",
   "name": "python",
   "nbconvert_exporter": "python",
   "pygments_lexer": "ipython3",
   "version": "3.11.4"
  }
 },
 "nbformat": 4,
 "nbformat_minor": 5
}
